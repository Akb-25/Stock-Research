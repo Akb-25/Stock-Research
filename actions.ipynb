{
 "cells": [
  {
   "cell_type": "code",
   "execution_count": 1,
   "metadata": {},
   "outputs": [],
   "source": [
    "import pandas as pd\n",
    "pd.set_option(\"display.max_rows\",None)"
   ]
  },
  {
   "cell_type": "code",
   "execution_count": 2,
   "metadata": {},
   "outputs": [],
   "source": [
    "dataframe=pd.read_csv(\"article_urls_information.csv\")"
   ]
  },
  {
   "cell_type": "code",
   "execution_count": 3,
   "metadata": {},
   "outputs": [
    {
     "data": {
      "text/html": [
       "<div>\n",
       "<style scoped>\n",
       "    .dataframe tbody tr th:only-of-type {\n",
       "        vertical-align: middle;\n",
       "    }\n",
       "\n",
       "    .dataframe tbody tr th {\n",
       "        vertical-align: top;\n",
       "    }\n",
       "\n",
       "    .dataframe thead th {\n",
       "        text-align: right;\n",
       "    }\n",
       "</style>\n",
       "<table border=\"1\" class=\"dataframe\">\n",
       "  <thead>\n",
       "    <tr style=\"text-align: right;\">\n",
       "      <th></th>\n",
       "      <th>Unnamed: 0</th>\n",
       "      <th>url</th>\n",
       "      <th>Data</th>\n",
       "    </tr>\n",
       "  </thead>\n",
       "  <tbody>\n",
       "    <tr>\n",
       "      <th>6</th>\n",
       "      <td>6</td>\n",
       "      <td>https://www.nseindia.com/get-quotes/equity?sym...</td>\n",
       "      <td>['\\n08-Dec-2023 15:30\\n', '15-Dec-2023 | 83.40...</td>\n",
       "    </tr>\n",
       "    <tr>\n",
       "      <th>5</th>\n",
       "      <td>5</td>\n",
       "      <td>https://economictimes.indiatimes.com/infosys-l...</td>\n",
       "      <td>['In the last 19 years, only 0.83 % trading se...</td>\n",
       "    </tr>\n",
       "    <tr>\n",
       "      <th>8</th>\n",
       "      <td>8</td>\n",
       "      <td>https://www.5paisa.com/stocks/infy-share-price</td>\n",
       "      <td>['Infosys', 'Start SIP in Infosys', \"\\n Infosy...</td>\n",
       "    </tr>\n",
       "    <tr>\n",
       "      <th>4</th>\n",
       "      <td>4</td>\n",
       "      <td>https://www.bseindia.com/stock-share-price/inf...</td>\n",
       "      <td>[]</td>\n",
       "    </tr>\n",
       "    <tr>\n",
       "      <th>2</th>\n",
       "      <td>2</td>\n",
       "      <td>https://groww.in/stocks/infosys-ltd</td>\n",
       "      <td>['Vaishnavi Tech Park, 3rd &amp; 4th Floor', 'Sarj...</td>\n",
       "    </tr>\n",
       "    <tr>\n",
       "      <th>7</th>\n",
       "      <td>7</td>\n",
       "      <td>https://www.livemint.com/market/market-stats/s...</td>\n",
       "      <td>['Infosys is trading 1.67% upper at Rs 1,490.6...</td>\n",
       "    </tr>\n",
       "    <tr>\n",
       "      <th>9</th>\n",
       "      <td>9</td>\n",
       "      <td>https://www.icicidirect.com/stocks/infosys-ltd...</td>\n",
       "      <td>['Dec 08, 2023 04:05 PM', '\\nSECTOR : IT - Sof...</td>\n",
       "    </tr>\n",
       "    <tr>\n",
       "      <th>0</th>\n",
       "      <td>0</td>\n",
       "      <td>https://www.moneycontrol.com/india/stockpriceq...</td>\n",
       "      <td>['My Account', 'Follow us on:', '\\n\\t\\t\\t\\t\\t\\...</td>\n",
       "    </tr>\n",
       "    <tr>\n",
       "      <th>1</th>\n",
       "      <td>1</td>\n",
       "      <td>https://groww.in/stocks/infosys-ltd</td>\n",
       "      <td>['Vaishnavi Tech Park, 3rd &amp; 4th Floor', 'Sarj...</td>\n",
       "    </tr>\n",
       "  </tbody>\n",
       "</table>\n",
       "</div>"
      ],
      "text/plain": [
       "   Unnamed: 0                                                url  \\\n",
       "6           6  https://www.nseindia.com/get-quotes/equity?sym...   \n",
       "5           5  https://economictimes.indiatimes.com/infosys-l...   \n",
       "8           8     https://www.5paisa.com/stocks/infy-share-price   \n",
       "4           4  https://www.bseindia.com/stock-share-price/inf...   \n",
       "2           2                https://groww.in/stocks/infosys-ltd   \n",
       "7           7  https://www.livemint.com/market/market-stats/s...   \n",
       "9           9  https://www.icicidirect.com/stocks/infosys-ltd...   \n",
       "0           0  https://www.moneycontrol.com/india/stockpriceq...   \n",
       "1           1                https://groww.in/stocks/infosys-ltd   \n",
       "\n",
       "                                                Data  \n",
       "6  ['\\n08-Dec-2023 15:30\\n', '15-Dec-2023 | 83.40...  \n",
       "5  ['In the last 19 years, only 0.83 % trading se...  \n",
       "8  ['Infosys', 'Start SIP in Infosys', \"\\n Infosy...  \n",
       "4                                                 []  \n",
       "2  ['Vaishnavi Tech Park, 3rd & 4th Floor', 'Sarj...  \n",
       "7  ['Infosys is trading 1.67% upper at Rs 1,490.6...  \n",
       "9  ['Dec 08, 2023 04:05 PM', '\\nSECTOR : IT - Sof...  \n",
       "0  ['My Account', 'Follow us on:', '\\n\\t\\t\\t\\t\\t\\...  \n",
       "1  ['Vaishnavi Tech Park, 3rd & 4th Floor', 'Sarj...  "
      ]
     },
     "execution_count": 3,
     "metadata": {},
     "output_type": "execute_result"
    }
   ],
   "source": [
    "dataframe.sample(9)"
   ]
  },
  {
   "cell_type": "code",
   "execution_count": 11,
   "metadata": {},
   "outputs": [],
   "source": [
    "articleContent=dataframe[\"Data\"][3]"
   ]
  },
  {
   "cell_type": "code",
   "execution_count": 12,
   "metadata": {},
   "outputs": [
    {
     "name": "stdout",
     "output_type": "stream",
     "text": [
      "['My Account', 'Follow us on:', '\\n\\t\\t\\t\\t\\t\\t\\t\\t\\t\\t\\tPowered By \\n\\t\\t\\t\\t\\t\\t\\t\\t\\t\\t\\t\\n\\n\\n\\n\\n\\n\\n\\n\\n\\n\\n\\n', 'Find & Invest in bonds issued by top corporates, PSU Banks, NBFCs, and much more. Invest as low as 10,000 and earn better returns than FD', 'Invest Now', '\\n\\t\\t\\t\\t\\t\\t\\t\\t\\t\\t\\tPowered By \\n\\t\\t\\t\\t\\t\\t\\t\\t\\t\\t\\t\\n\\n\\n\\n\\n\\n\\n', \"Unlock Your Trading Potential: Trade like Experts with SEBI registered creators, Learn from Courses & Webinars by India's Finest Finance Experts.\", 'Invest Now', '\\n\\n\\n\\n', 'AMBAREESH BALIGA', 'Fundamental, Stock Ideas, Multibaggers & Insights', 'Subscribe', 'CK NARAYAN', 'Stock & Index F&O Trading Calls & Market Analysis', 'Subscribe', 'SUDARSHAN SUKHANI', 'Technical Call, Trading Calls & Insights', 'Subscribe', 'T GNANASEKAR', 'Commodity Trading Calls & Market Analysis', 'Subscribe', 'MECKLAI FINANCIALS', 'Currency Derivatives Trading Calls & Insights', 'Subscribe', 'SHUBHAM AGARWAL', 'Options Trading Advice and Market Analysis', 'Subscribe', 'MARKET SMITH INDIA', 'Model portfolios, Investment Ideas, Guru Screens and Much More', 'Subscribe', 'TraderSmith', 'Proprietary system driven Rule Based Trading calls', 'Subscribe', '\\n\\n\\n\\n', '\\n\\n\\n\\n', 'Curated markets data, exclusive trading recommendations, Independent equity analysis & actionable investment ideas', 'Subscribe', 'Curated markets data, exclusive trading recommendations, Independent equity analysis & actionable investment ideas', 'Explore', 'STOCK REPORTS BY THOMSON REUTERS', 'Details stock report and investment recommendation', 'Subscribe', 'POWER YOUR TRADE', 'Technical and Commodity Calls', 'Subscribe', 'INVESTMENT WATCH', 'Set price, volume and news alerts', 'Subscribe', 'Nifty 50', '20969.40', '\\n+68.25 (+0.33%)\\n', 'Sensex', '69825.60', '\\n+303.91 (+0.44%)\\n', 'BSE: 500209 | NSE: INFY | \\n\\n\\nRepresents Equity.Intra - day transactions are permissible and normal trading is done in this category\\n\\nSeries: EQ |\\nISIN: INE009A01021 | SECTOR: IT Services & ConsultingIT Services & Consulting', 'BSE Live', 'Prev. Close', '1466.15', 'Open Price', '1472.95', 'Bid Price (Qty.)\\n                    1491.00 (71)\\n', '1491.00 (71)', 'Offer Price (Qty.)\\n                    1490.60 (1041)\\n', '1490.60 (1041)', 'NSE Live', 'Prev. Close', '1465.90', 'Open Price', '1470.40', 'Bid Price (Qty.)\\n                    1491.15 (38)\\n', '1491.15 (38)', 'Offer Price (Qty.)\\n                    0.00 (0)\\n', '0.00 (0)', ' Copyright © e-Eighteen.com Ltd. All rights reserved. Reproduction of news articles, photos, videos or any other content in whole or in part in any form \\r\\n        or medium without express writtern permission of moneycontrol.com is prohibited.', 'You are already a Moneycontrol Pro user.', 'Access your Detailed Credit Report - absolutely free']\n"
     ]
    }
   ],
   "source": [
    "print(articleContent)"
   ]
  }
 ],
 "metadata": {
  "kernelspec": {
   "display_name": "Venv",
   "language": "python",
   "name": "python3"
  },
  "language_info": {
   "codemirror_mode": {
    "name": "ipython",
    "version": 3
   },
   "file_extension": ".py",
   "mimetype": "text/x-python",
   "name": "python",
   "nbconvert_exporter": "python",
   "pygments_lexer": "ipython3",
   "version": "3.11.3"
  }
 },
 "nbformat": 4,
 "nbformat_minor": 2
}
